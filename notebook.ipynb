{
 "cells": [
  {
   "cell_type": "code",
   "execution_count": null,
   "metadata": {},
   "outputs": [],
   "source": [
    "from parse_report import parse_report, load_file, dataframe_to_report, average_reports\n",
    "import pandas as pd"
   ]
  },
  {
   "cell_type": "code",
   "execution_count": 7,
   "metadata": {
    "dotnet_interactive": {
     "language": "csharp"
    },
    "polyglot_notebook": {
     "kernelName": "csharp"
    }
   },
   "outputs": [],
   "source": [
    "files = !ls reports/desktop/json/*.txt\n",
    "data = [load_file(fn) for fn in files]"
   ]
  },
  {
   "cell_type": "code",
   "execution_count": 8,
   "metadata": {},
   "outputs": [],
   "source": [
    "reports = [parse_report(report) for title, report in data]"
   ]
  },
  {
   "cell_type": "code",
   "execution_count": 41,
   "metadata": {},
   "outputs": [
    {
     "data": {
      "text/html": [
       "<div>\n",
       "<style scoped>\n",
       "    .dataframe tbody tr th:only-of-type {\n",
       "        vertical-align: middle;\n",
       "    }\n",
       "\n",
       "    .dataframe tbody tr th {\n",
       "        vertical-align: top;\n",
       "    }\n",
       "\n",
       "    .dataframe thead th {\n",
       "        text-align: right;\n",
       "    }\n",
       "</style>\n",
       "<table border=\"1\" class=\"dataframe\">\n",
       "  <thead>\n",
       "    <tr style=\"text-align: right;\">\n",
       "      <th></th>\n",
       "      <th>batch_size</th>\n",
       "      <th>operation</th>\n",
       "      <th>transactions_per_second</th>\n",
       "    </tr>\n",
       "  </thead>\n",
       "  <tbody>\n",
       "    <tr>\n",
       "      <th>0</th>\n",
       "      <td>1</td>\n",
       "      <td>Delete rides</td>\n",
       "      <td>210151.402875</td>\n",
       "    </tr>\n",
       "    <tr>\n",
       "      <th>1</th>\n",
       "      <td>1</td>\n",
       "      <td>Delete vehicles</td>\n",
       "      <td>304894.836036</td>\n",
       "    </tr>\n",
       "    <tr>\n",
       "      <th>2</th>\n",
       "      <td>1</td>\n",
       "      <td>Get ride vehicles</td>\n",
       "      <td>201028.298017</td>\n",
       "    </tr>\n",
       "    <tr>\n",
       "      <th>3</th>\n",
       "      <td>1</td>\n",
       "      <td>Get vehicle rides</td>\n",
       "      <td>190898.646838</td>\n",
       "    </tr>\n",
       "    <tr>\n",
       "      <th>4</th>\n",
       "      <td>1</td>\n",
       "      <td>Get vehicles</td>\n",
       "      <td>267336.295753</td>\n",
       "    </tr>\n",
       "    <tr>\n",
       "      <th>5</th>\n",
       "      <td>1</td>\n",
       "      <td>Insert rides</td>\n",
       "      <td>248129.235707</td>\n",
       "    </tr>\n",
       "    <tr>\n",
       "      <th>6</th>\n",
       "      <td>1</td>\n",
       "      <td>Insert vehicles</td>\n",
       "      <td>361020.200469</td>\n",
       "    </tr>\n",
       "    <tr>\n",
       "      <th>7</th>\n",
       "      <td>1</td>\n",
       "      <td>Read-update vehicles</td>\n",
       "      <td>319223.811506</td>\n",
       "    </tr>\n",
       "    <tr>\n",
       "      <th>8</th>\n",
       "      <td>1</td>\n",
       "      <td>Update rides</td>\n",
       "      <td>415719.752819</td>\n",
       "    </tr>\n",
       "    <tr>\n",
       "      <th>9</th>\n",
       "      <td>1</td>\n",
       "      <td>Update vehicles</td>\n",
       "      <td>661098.173407</td>\n",
       "    </tr>\n",
       "  </tbody>\n",
       "</table>\n",
       "</div>"
      ],
      "text/plain": [
       "   batch_size             operation  transactions_per_second\n",
       "0           1          Delete rides            210151.402875\n",
       "1           1       Delete vehicles            304894.836036\n",
       "2           1     Get ride vehicles            201028.298017\n",
       "3           1     Get vehicle rides            190898.646838\n",
       "4           1          Get vehicles            267336.295753\n",
       "5           1          Insert rides            248129.235707\n",
       "6           1       Insert vehicles            361020.200469\n",
       "7           1  Read-update vehicles            319223.811506\n",
       "8           1          Update rides            415719.752819\n",
       "9           1       Update vehicles            661098.173407"
      ]
     },
     "execution_count": 41,
     "metadata": {},
     "output_type": "execute_result"
    }
   ],
   "source": [
    "av = average_reports(reports)\n",
    "av[av['batch_size']==1]"
   ]
  },
  {
   "cell_type": "code",
   "execution_count": 45,
   "metadata": {},
   "outputs": [
    {
     "name": "stdout",
     "output_type": "stream",
     "text": [
      "Affected object per transaction 1.\n",
      "Delete rides [0]: 210151.4 T/s\n",
      "Delete vehicles [0]: 304894.8 T/s\n",
      "Get ride vehicles [0]: 201028.3 T/s\n",
      "Get vehicle rides [0]: 190898.6 T/s\n",
      "Get vehicles [0]: 267336.3 T/s\n",
      "Insert rides [0]: 248129.2 T/s\n",
      "Insert vehicles [0]: 361020.2 T/s\n",
      "Read-update vehicles [0]: 319223.8 T/s\n",
      "Update rides [0]: 415719.8 T/s\n",
      "Update vehicles [0]: 661098.2 T/s\n",
      "\n",
      "Affected object per transaction 2.\n",
      "Delete rides [0]: 116837.2 T/s\n",
      "Delete vehicles [0]: 202674.6 T/s\n",
      "Get ride vehicles [0]: 100186.4 T/s\n",
      "Get vehicle rides [0]: 108099.4 T/s\n",
      "Get vehicles [0]: 165643.5 T/s\n",
      "Insert rides [0]: 131124.8 T/s\n",
      "Insert vehicles [0]: 183250.8 T/s\n",
      "Read-update vehicles [0]: 166191.2 T/s\n",
      "Update rides [0]: 203442.1 T/s\n",
      "Update vehicles [0]: 327957.1 T/s\n",
      "\n",
      "Affected object per transaction 4.\n",
      "Delete rides [0]: 54465.2 T/s\n",
      "Delete vehicles [0]: 112388.4 T/s\n",
      "Get ride vehicles [0]: 45065.9 T/s\n",
      "Get vehicle rides [0]: 40484.8 T/s\n",
      "Get vehicles [0]: 63773.5 T/s\n",
      "Insert rides [0]: 62642.1 T/s\n",
      "Insert vehicles [0]: 95666.8 T/s\n",
      "Read-update vehicles [0]: 80222.5 T/s\n",
      "Update rides [0]: 98252.8 T/s\n",
      "Update vehicles [0]: 165002.6 T/s\n"
     ]
    }
   ],
   "source": [
    "print(dataframe_to_report(av))"
   ]
  },
  {
   "cell_type": "code",
   "execution_count": 42,
   "metadata": {},
   "outputs": [
    {
     "data": {
      "text/plain": [
       "np.float64(210151.40287489197)"
      ]
     },
     "execution_count": 42,
     "metadata": {},
     "output_type": "execute_result"
    }
   ],
   "source": [
    "sum([r[(r['batch_size'] == 1) & (r['operation'] == 'Delete rides')].iloc[0,2] for r in reports])/5"
   ]
  }
 ],
 "metadata": {
  "kernelspec": {
   "display_name": "parse_report",
   "language": "python",
   "name": "python3"
  },
  "language_info": {
   "codemirror_mode": {
    "name": "ipython",
    "version": 3
   },
   "file_extension": ".py",
   "mimetype": "text/x-python",
   "name": "python",
   "nbconvert_exporter": "python",
   "pygments_lexer": "ipython3",
   "version": "3.12.8"
  },
  "polyglot_notebook": {
   "kernelInfo": {
    "defaultKernelName": "csharp",
    "items": [
     {
      "aliases": [],
      "languageName": "csharp",
      "name": "csharp"
     }
    ]
   }
  }
 },
 "nbformat": 4,
 "nbformat_minor": 2
}
